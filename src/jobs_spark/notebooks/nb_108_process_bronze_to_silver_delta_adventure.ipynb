{
 "cells": [
  {
   "cell_type": "code",
   "execution_count": 1,
   "id": "294036ec-a10d-412d-bef8-2a2e31621660",
   "metadata": {},
   "outputs": [],
   "source": [
    "import pyspark\n",
    "from pyspark.sql import SparkSession\n",
    "import logging\n",
    "from datetime import datetime  \n",
    "\n",
    "from pyspark.sql.functions import lit  \n",
    "\n",
    "from configs import configs\n",
    "from functions import functions as F"
   ]
  },
  {
   "cell_type": "code",
   "execution_count": 2,
   "id": "4da3e528-0611-47aa-9085-1fef497f52fa",
   "metadata": {},
   "outputs": [
    {
     "name": "stderr",
     "output_type": "stream",
     "text": [
      "2024-07-12 13:08:44,885 - INFO - Starting Process to Silver...\n",
      "2024-07-12 13:08:53,692 - INFO - Query 'SELECT * FROM delta.`s3a://bronze/adventure_works/bronze_sales_countryregioncurrency`' successfully processed and saved to s3a://silver/adventure_works/silver_sales_countryregioncurrency\n",
      "2024-07-12 13:08:55,535 - INFO - Query 'SELECT * FROM delta.`s3a://bronze/adventure_works/bronze_humanresources_department`' successfully processed and saved to s3a://silver/adventure_works/silver_humanresources_department\n",
      "2024-07-12 13:08:57,149 - INFO - Query 'SELECT * FROM delta.`s3a://bronze/adventure_works/bronze_humanresources_employee`' successfully processed and saved to s3a://silver/adventure_works/silver_humanresources_employee\n",
      "2024-07-12 13:08:59,404 - INFO - Query 'SELECT * FROM delta.`s3a://bronze/adventure_works/bronze_sales_salesorderheader`' successfully processed and saved to s3a://silver/adventure_works/silver_sales_salesorderheader\n",
      "2024-07-12 13:08:59,405 - INFO - Process to Silver completed!\n"
     ]
    }
   ],
   "source": [
    "def process_table(spark, query_input, output_path):\n",
    "    try:\n",
    "        df_input_data = spark.sql(query_input)\n",
    "        df_with_update_date = df_input_data.withColumn(\"last_update\", lit(datetime.now()))\n",
    "        df_with_update_date.write.format(\"delta\").mode(\"overwrite\").partitionBy('month_key').save(output_path)\n",
    "        logging.info(f\"Query '{query_input}' successfully processed and saved to {output_path}\")\n",
    "    except Exception as e:\n",
    "        logging.error(f\"Error processing query '{query_input}': {str(e)}\")\n",
    "\n",
    "if __name__ == \"__main__\":\n",
    "    spark = SparkSession.builder \\\n",
    "        .appName(\"Process Full Bronze to Silver\") \\\n",
    "        .config(\"spark.hadoop.fs.s3a.endpoint\", \"http://minio:9000\") \\\n",
    "        .config(\"spark.hadoop.fs.s3a.access.key\", \"chapolin\") \\\n",
    "        .config(\"spark.hadoop.fs.s3a.secret.key\", \"mudar@123\") \\\n",
    "        .config(\"spark.hadoop.fs.s3a.path.style.access\", True) \\\n",
    "        .config(\"spark.hadoop.fs.s3a.impl\", \"org.apache.hadoop.fs.s3a.S3AFileSystem\") \\\n",
    "        .config(\"spark.hadoop.fs.s3a.aws.credentials.provider\", \"org.apache.hadoop.fs.s3a.SimpleAWSCredentialsProvider\") \\\n",
    "        .config(\"hive.metastore.uris\", \"thrift://metastore:9083\") \\\n",
    "        .config(\"spark.sql.extensions\", \"io.delta.sql.DeltaSparkSessionExtension\") \\\n",
    "        .config(\"spark.sql.catalog.spark_catalog\", \"org.apache.spark.sql.delta.catalog.DeltaCatalog\") \\\n",
    "        .getOrCreate()\n",
    "\n",
    "    input_prefix_layer_name = configs.prefix_layer_name['1']  # silver layer\n",
    "    input_path = configs.lake_path['bronze']\n",
    "\n",
    "    output_prefix_layer_name = configs.prefix_layer_name['2']  # gold layer\n",
    "    output_path = configs.lake_path['silver']\n",
    "\n",
    "    logging.basicConfig(level=logging.INFO, format='%(asctime)s - %(levelname)s - %(message)s')\n",
    "\n",
    "    logging.info(\"Starting Process to Silver...\")\n",
    "\n",
    "    try:\n",
    "        for table_name, query_input in configs.tables_queries_silver.items():  \n",
    "            table_name = F.convert_table_name(table_name)\n",
    "\n",
    "            query_input = F.get_query(table_name, input_path, input_prefix_layer_name, configs.tables_queries_silver)\n",
    "    \n",
    "            storage_output = f\"{output_path}{output_prefix_layer_name}{table_name}\"\n",
    "            \n",
    "            process_table(spark, query_input, storage_output)\n",
    "        \n",
    "        logging.info(\"Process to Silver completed!\")\n",
    "    except Exception as e:\n",
    "        logging.error(f\"Error processing table: {str(e)}\")\n"
   ]
  }
 ],
 "metadata": {
  "kernelspec": {
   "display_name": "Python 3 (ipykernel)",
   "language": "python",
   "name": "python3"
  },
  "language_info": {
   "codemirror_mode": {
    "name": "ipython",
    "version": 3
   },
   "file_extension": ".py",
   "mimetype": "text/x-python",
   "name": "python",
   "nbconvert_exporter": "python",
   "pygments_lexer": "ipython3",
   "version": "3.10.8"
  }
 },
 "nbformat": 4,
 "nbformat_minor": 5
}
