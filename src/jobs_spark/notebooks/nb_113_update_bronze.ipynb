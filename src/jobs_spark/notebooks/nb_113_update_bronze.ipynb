{
 "cells": [
  {
   "cell_type": "code",
   "execution_count": 1,
   "id": "bfd54164-7f00-44d8-8617-03708fc99fcd",
   "metadata": {},
   "outputs": [],
   "source": [
    "import pyspark\n",
    "from pyspark.sql import SparkSession\n",
    "import logging\n",
    "from datetime import datetime  \n",
    "\n",
    "from pyspark.sql.functions import lit  \n",
    "\n",
    "from configs import configs\n",
    "from functions import functions as F"
   ]
  },
  {
   "cell_type": "code",
   "execution_count": 2,
   "id": "2449e202-132f-4cbd-baf5-2badef79ded3",
   "metadata": {},
   "outputs": [
    {
     "name": "stderr",
     "output_type": "stream",
     "text": [
      "2024-07-02 11:05:06,879 - INFO - Ingestion Delta...\n",
      "2024-07-02 11:05:15,471 - INFO - Table sales_countryregioncurrency successfully processed and saved to Delta Lake: s3a://bronze/adventure_works/bronze_sales_countryregioncurrency. 0 rows written.\n",
      "2024-07-02 11:05:17,222 - INFO - Table humanresources_department successfully processed and saved to Delta Lake: s3a://bronze/adventure_works/bronze_humanresources_department. 0 rows written.\n",
      "2024-07-02 11:05:18,782 - INFO - Table humanresources_employee successfully processed and saved to Delta Lake: s3a://bronze/adventure_works/bronze_humanresources_employee. 0 rows written.\n",
      "2024-07-02 11:05:20,899 - INFO - Table sales_salesorderheader successfully processed and saved to Delta Lake: s3a://bronze/adventure_works/bronze_sales_salesorderheader. 0 rows written.\n",
      "2024-07-02 11:05:20,900 - INFO - Ingestion Delta completed!\n"
     ]
    }
   ],
   "source": [
    "def configure_spark():\n",
    "    \"\"\"Configure SparkSession.\"\"\"\n",
    "    spark = SparkSession.builder \\\n",
    "            .appName(\"ELT Incremental Landing to Bronze AdventureWorks\") \\\n",
    "            .config(\"spark.hadoop.fs.s3a.endpoint\", \"http://minio:9000\") \\\n",
    "            .config(\"spark.hadoop.fs.s3a.access.key\", \"chapolin\") \\\n",
    "            .config(\"spark.hadoop.fs.s3a.secret.key\", \"mudar@123\") \\\n",
    "            .config(\"spark.hadoop.fs.s3a.path.style.access\", True) \\\n",
    "            .config(\"spark.hadoop.fs.s3a.impl\", \"org.apache.hadoop.fs.s3a.S3AFileSystem\") \\\n",
    "            .config(\"spark.hadoop.fs.s3a.aws.credentials.provider\", \"org.apache.hadoop.fs.s3a.SimpleAWSCredentialsProvider\") \\\n",
    "            .config(\"hive.metastore.uris\", \"thrift://metastore:9083\") \\\n",
    "            .config(\"spark.sql.extensions\", \"io.delta.sql.DeltaSparkSessionExtension\") \\\n",
    "            .config(\"spark.sql.catalog.spark_catalog\", \"org.apache.spark.sql.delta.catalog.DeltaCatalog\") \\\n",
    "            .getOrCreate()\n",
    "    return spark\n",
    "\n",
    "def ingest_data():\n",
    "    \"\"\"Ingest data from AdventureWorks to HDFS.\"\"\"\n",
    "\n",
    "    logging.basicConfig(level=logging.INFO, format='%(asctime)s - %(levelname)s - %(message)s')\n",
    "\n",
    "    logging.info(\"Ingestion Delta...\")\n",
    "\n",
    "    table_input_name = configs.lake_path['landing_zone_adventure_works']\n",
    "    output_prefix_layer_name = configs.prefix_layer_name['1']  # bronze layer\n",
    "    storage_output = configs.lake_path['bronze']\n",
    "\n",
    "    for key, value in configs.tables_postgres_adventureworks.items():\n",
    "        table = value\n",
    "        table_name = F.convert_table_name(table)\n",
    "\n",
    "        try:\n",
    "            df_input_data = spark.read.format(\"parquet\").load(f'{table_input_name}{table_name}')\n",
    "\n",
    "            df_delta = spark.read.format(\"delta\").load(f'{storage_output}{output_prefix_layer_name}{table_name}')\n",
    "\n",
    "            max_modified_date_delta = df_delta.selectExpr(\"max(modifieddate)\").collect()[0][0]\n",
    "\n",
    "            df_new_data = df_input_data.filter(df_input_data[\"modifieddate\"] > max_modified_date_delta)\n",
    "            \n",
    "            df_with_update_date = df_new_data.withColumn(\"last_update\", lit(datetime.now()))\n",
    "\n",
    "            df_with_update_date.write.format(\"delta\").mode(\"append\").partitionBy('month_key').save(f'{storage_output}{output_prefix_layer_name}{table_name}')\n",
    "\n",
    "            num_rows_written = df_with_update_date.count()\n",
    "            logging.info(f\"Table {table_name} successfully processed and saved to Delta Lake: {storage_output}{output_prefix_layer_name}{table_name}. {num_rows_written} rows written.\")\n",
    "\n",
    "        except Exception as e:\n",
    "            logging.error(f\"Error processing table {table}: {str(e)}\")\n",
    "\n",
    "    logging.info(\"Ingestion Delta completed!\")\n",
    "\n",
    "if __name__ == \"__main__\":\n",
    "    spark = configure_spark()\n",
    "    ingest_data()\n"
   ]
  }
 ],
 "metadata": {
  "kernelspec": {
   "display_name": "Python 3 (ipykernel)",
   "language": "python",
   "name": "python3"
  },
  "language_info": {
   "codemirror_mode": {
    "name": "ipython",
    "version": 3
   },
   "file_extension": ".py",
   "mimetype": "text/x-python",
   "name": "python",
   "nbconvert_exporter": "python",
   "pygments_lexer": "ipython3",
   "version": "3.10.8"
  }
 },
 "nbformat": 4,
 "nbformat_minor": 5
}
