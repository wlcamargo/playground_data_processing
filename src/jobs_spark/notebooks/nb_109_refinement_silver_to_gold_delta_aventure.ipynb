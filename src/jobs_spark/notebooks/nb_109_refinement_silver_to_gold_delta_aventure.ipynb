{
 "cells": [
  {
   "cell_type": "code",
   "execution_count": 1,
   "metadata": {},
   "outputs": [],
   "source": [
    "import pyspark\n",
    "from pyspark.sql import SparkSession\n",
    "import logging\n",
    "from datetime import datetime  \n",
    "\n",
    "from pyspark.sql.functions import lit  \n",
    "\n",
    "from configs import configs\n",
    "from functions import functions as F"
   ]
  },
  {
   "cell_type": "code",
   "execution_count": 2,
   "metadata": {},
   "outputs": [
    {
     "name": "stderr",
     "output_type": "stream",
     "text": [
      "2024-07-02 11:03:55,921 - INFO - Starting refinement to Gold...\n",
      "2024-07-02 11:04:05,541 - INFO - Query '\n",
      "SELECT \n",
      "    departmentid, \n",
      "    name, \n",
      "    groupname, \n",
      "    modifieddate, \n",
      "    last_update, \n",
      "    month_key \n",
      "FROM \n",
      "    delta.`s3a://silver/adventure_works/silver_humanresources_department`;\n",
      "    ' successfully processed and saved to s3a://gold/adventure_works/gold_humanresources_department\n",
      "2024-07-02 11:04:07,384 - INFO - Query '\n",
      "SELECT \n",
      "    groupname, \n",
      "    modifieddate,\n",
      "    last_update, \n",
      "    month_key, \n",
      "    count(*) as qtd\n",
      "FROM \n",
      "    delta.`s3a://silver/adventure_works/silver_humanresources_department`\n",
      "group by \n",
      "\tgroupname,\n",
      "\tmodifieddate,\n",
      "    last_update, \n",
      "    month_key ;\n",
      "    ' successfully processed and saved to s3a://gold/adventure_works/gold_humanresources_groupname_qtd\n",
      "2024-07-02 11:04:07,385 - INFO - Refinement to Gold completed!\n"
     ]
    }
   ],
   "source": [
    "def process_table(spark, query_input, output_table_path):\n",
    "    try:\n",
    "        df_input_data = spark.sql(query_input)\n",
    "        df_with_update_date = df_input_data.withColumn(\"last_update\", lit(datetime.now()))\n",
    "        df_with_update_date.write.format(\"delta\").mode(\"overwrite\").partitionBy('month_key').save(output_table_path)\n",
    "        logging.info(f\"Query '{query_input}' successfully processed and saved to {output_table_path}\")\n",
    "    except Exception as e:\n",
    "        logging.error(f\"Error processing query '{query_input}': {str(e)}\")\n",
    "\n",
    "if __name__ == \"__main__\":\n",
    "    spark = SparkSession.builder \\\n",
    "        .appName(\"Refinement Full Silver to Gold\") \\\n",
    "        .config(\"spark.hadoop.fs.s3a.endpoint\", \"http://minio:9000\") \\\n",
    "        .config(\"spark.hadoop.fs.s3a.access.key\", \"chapolin\") \\\n",
    "        .config(\"spark.hadoop.fs.s3a.secret.key\", \"mudar@123\") \\\n",
    "        .config(\"spark.hadoop.fs.s3a.path.style.access\", True) \\\n",
    "        .config(\"spark.hadoop.fs.s3a.impl\", \"org.apache.hadoop.fs.s3a.S3AFileSystem\") \\\n",
    "        .config(\"spark.hadoop.fs.s3a.aws.credentials.provider\", \"org.apache.hadoop.fs.s3a.SimpleAWSCredentialsProvider\") \\\n",
    "        .config(\"hive.metastore.uris\", \"thrift://metastore:9083\") \\\n",
    "        .config(\"spark.sql.extensions\", \"io.delta.sql.DeltaSparkSessionExtension\") \\\n",
    "        .config(\"spark.sql.catalog.spark_catalog\", \"org.apache.spark.sql.delta.catalog.DeltaCatalog\") \\\n",
    "        .getOrCreate()\n",
    "\n",
    " \n",
    "    input_prefix_layer_name = configs.prefix_layer_name['2']  # silver layer\n",
    "    input_path = configs.lake_path['silver']\n",
    "    output_prefix_layer_name = configs.prefix_layer_name['3']  # gold layer\n",
    "    output_path = configs.lake_path['gold']\n",
    "\n",
    "  \n",
    "    logging.basicConfig(level=logging.INFO, format='%(asctime)s - %(levelname)s - %(message)s')\n",
    "\n",
    "\n",
    "    logging.info(\"Starting refinement to Gold...\")\n",
    "\n",
    "\n",
    "    try:\n",
    "        for table_name, query_input in configs.tables_gold.items(): \n",
    "            table_name = F.convert_table_name(table_name)\n",
    "\n",
    "            query_input = F.get_query(table_name, input_path, input_prefix_layer_name, configs.tables_gold)\n",
    "\n",
    "            storage_output= f\"{output_path}{output_prefix_layer_name}{table_name}\"\n",
    "\n",
    "            process_table(spark, query_input, storage_output)  \n",
    "        \n",
    "        logging.info(\"Refinement to Gold completed!\")\n",
    "    except Exception as e:\n",
    "        logging.error(f\"Error processing table: {str(e)}\")\n"
   ]
  }
 ],
 "metadata": {
  "kernelspec": {
   "display_name": "Python 3 (ipykernel)",
   "language": "python",
   "name": "python3"
  },
  "language_info": {
   "codemirror_mode": {
    "name": "ipython",
    "version": 3
   },
   "file_extension": ".py",
   "mimetype": "text/x-python",
   "name": "python",
   "nbconvert_exporter": "python",
   "pygments_lexer": "ipython3",
   "version": "3.10.8"
  }
 },
 "nbformat": 4,
 "nbformat_minor": 4
}
