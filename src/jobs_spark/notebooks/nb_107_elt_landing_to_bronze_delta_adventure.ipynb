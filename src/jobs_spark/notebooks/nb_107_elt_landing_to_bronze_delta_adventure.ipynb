{
 "cells": [
  {
   "cell_type": "code",
   "execution_count": 1,
   "id": "39355a9d-db91-4192-bcb7-d56b06d95776",
   "metadata": {},
   "outputs": [],
   "source": [
    "import pyspark\n",
    "from pyspark.sql import SparkSession\n",
    "import logging\n",
    "from datetime import datetime  \n",
    "from pyspark.sql.functions import lit \n",
    "from configs import configs\n",
    "from functions import functions as F\n",
    "\n",
    "spark = SparkSession.builder \\\n",
    "        .appName(\"ELT Full Landing to Bronze AdventureWorks\") \\\n",
    "        .config(\"spark.hadoop.fs.s3a.endpoint\", \"http://minio:9000\") \\\n",
    "        .config(\"spark.hadoop.fs.s3a.access.key\", \"chapolin\") \\\n",
    "        .config(\"spark.hadoop.fs.s3a.secret.key\", \"mudar@123\") \\\n",
    "        .config(\"spark.hadoop.fs.s3a.path.style.access\", True) \\\n",
    "        .config(\"spark.hadoop.fs.s3a.impl\", \"org.apache.hadoop.fs.s3a.S3AFileSystem\") \\\n",
    "        .config(\"spark.hadoop.fs.s3a.aws.credentials.provider\", \"org.apache.hadoop.fs.s3a.SimpleAWSCredentialsProvider\") \\\n",
    "        .config(\"hive.metastore.uris\", \"thrift://metastore:9083\") \\\n",
    "        .config(\"spark.sql.extensions\", \"io.delta.sql.DeltaSparkSessionExtension\") \\\n",
    "        .config(\"spark.sql.catalog.spark_catalog\", \"org.apache.spark.sql.delta.catalog.DeltaCatalog\") \\\n",
    "        .getOrCreate()\n",
    "\n",
    "logging.basicConfig(level=logging.INFO, format='%(asctime)s - %(levelname)s - %(message)s')"
   ]
  },
  {
   "cell_type": "code",
   "execution_count": 2,
   "id": "5968ace2-abc3-4444-8076-44a5b608ecdb",
   "metadata": {},
   "outputs": [
    {
     "name": "stderr",
     "output_type": "stream",
     "text": [
      "2024-07-12 09:44:13,918 - INFO - Starting ingestions from Landing Zone to Bronze...\n",
      "2024-07-12 09:44:13,921 - INFO - Starting ingestions to bronze layer...\n",
      "2024-07-12 09:44:21,147 - INFO - Table sales_countryregioncurrency successfully processed and saved to HDFS: s3a://bronze/adventure_works/bronze_sales_countryregioncurrency\n",
      "2024-07-12 09:44:22,434 - INFO - Table humanresources_department successfully processed and saved to HDFS: s3a://bronze/adventure_works/bronze_humanresources_department\n",
      "2024-07-12 09:44:23,710 - INFO - Table humanresources_employee successfully processed and saved to HDFS: s3a://bronze/adventure_works/bronze_humanresources_employee\n",
      "2024-07-12 09:44:25,923 - INFO - Table sales_salesorderheader successfully processed and saved to HDFS: s3a://bronze/adventure_works/bronze_sales_salesorderheader\n",
      "2024-07-12 09:44:25,924 - INFO - Ingestions to bronze layer completed!\n"
     ]
    }
   ],
   "source": [
    "logging.info(\"Starting ingestions from Landing Zone to Bronze...\")\n",
    "\n",
    "table_input_name = configs.lake_path['landing_zone_adventure_works']  \n",
    "output_prefix_layer_name = configs.prefix_layer_name['1']\n",
    "storage_output = configs.lake_path['bronze']  \n",
    "\n",
    "logging.basicConfig(level=logging.INFO, format='%(asctime)s - %(levelname)s - %(message)s')\n",
    "\n",
    "\n",
    "logging.info(\"Starting ingestions to bronze layer...\")\n",
    "\n",
    "for key, value in configs.tables_postgres_adventureworks.items():\n",
    "    table = value\n",
    "    table_name = F.convert_table_name(table)\n",
    "    \n",
    "    try:\n",
    "        df_input_data = spark.read.format(\"parquet\").load(f'{table_input_name}{table_name}') \n",
    "        df_with_update_date = df_input_data.withColumn(\"last_update\", lit(datetime.now()))\n",
    "        df_with_update_date.write.format(\"delta\").mode(\"overwrite\").partitionBy('month_key').save(f'{storage_output}{output_prefix_layer_name}{table_name}')        \n",
    "        logging.info(f\"Table {table_name} successfully processed and saved to HDFS: {storage_output}{output_prefix_layer_name}{table_name}\")\n",
    "        \n",
    "    except Exception as e:\n",
    "        logging.error(f\"Error processing table {table}: {str(e)}\")\n",
    "\n",
    "logging.info(\"Ingestions to bronze layer completed!\")\n"
   ]
  }
 ],
 "metadata": {
  "kernelspec": {
   "display_name": "Python 3 (ipykernel)",
   "language": "python",
   "name": "python3"
  },
  "language_info": {
   "codemirror_mode": {
    "name": "ipython",
    "version": 3
   },
   "file_extension": ".py",
   "mimetype": "text/x-python",
   "name": "python",
   "nbconvert_exporter": "python",
   "pygments_lexer": "ipython3",
   "version": "3.10.8"
  }
 },
 "nbformat": 4,
 "nbformat_minor": 5
}
