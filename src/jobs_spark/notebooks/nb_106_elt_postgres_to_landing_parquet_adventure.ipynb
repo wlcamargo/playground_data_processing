{
 "cells": [
  {
   "cell_type": "code",
   "execution_count": 2,
   "id": "ba5a636f-1559-40c9-a06c-fe8d5b6ba7a3",
   "metadata": {},
   "outputs": [
    {
     "name": "stderr",
     "output_type": "stream",
     "text": [
      "2024-07-15 11:20:15,575 - INFO - Starting ingestions from AdventureWorks to Landing Zone...\n",
      "2024-07-15 11:20:15,595 - INFO - Processing table: sales_countryregioncurrency\n",
      "2024-07-15 11:20:17,071 - INFO - Table sales_countryregioncurrency successfully processed and saved to HDFS: s3a://landing-zone/adventure_works/sales_countryregioncurrency\n",
      "2024-07-15 11:20:17,093 - INFO - Processing table: humanresources_department\n",
      "2024-07-15 11:20:17,494 - INFO - Table humanresources_department successfully processed and saved to HDFS: s3a://landing-zone/adventure_works/humanresources_department\n",
      "2024-07-15 11:20:17,517 - INFO - Processing table: humanresources_employee\n",
      "2024-07-15 11:20:17,988 - INFO - Table humanresources_employee successfully processed and saved to HDFS: s3a://landing-zone/adventure_works/humanresources_employee\n",
      "2024-07-15 11:20:18,009 - INFO - Processing table: sales_salesorderheader\n",
      "2024-07-15 11:20:20,959 - INFO - Table sales_salesorderheader successfully processed and saved to HDFS: s3a://landing-zone/adventure_works/sales_salesorderheader\n",
      "2024-07-15 11:20:20,960 - INFO - Ingestions to Landing Zone completed!\n"
     ]
    }
   ],
   "source": [
    "import pyspark\n",
    "from pyspark.sql import SparkSession\n",
    "import logging\n",
    "from configs import configs\n",
    "from functions import functions as F\n",
    "\n",
    "spark = SparkSession.builder \\\n",
    "        .appName(\"ELT Full Postgres to Landing AdventureWorks\") \\\n",
    "        .config(\"spark.hadoop.fs.s3a.endpoint\", \"http://minio:9000\") \\\n",
    "        .config(\"spark.hadoop.fs.s3a.access.key\", \"chapolin\") \\\n",
    "        .config(\"spark.hadoop.fs.s3a.secret.key\", \"mudar@123\") \\\n",
    "        .config(\"spark.hadoop.fs.s3a.path.style.access\", True) \\\n",
    "        .config(\"spark.hadoop.fs.s3a.impl\", \"org.apache.hadoop.fs.s3a.S3AFileSystem\") \\\n",
    "        .config(\"spark.hadoop.fs.s3a.aws.credentials.provider\", \"org.apache.hadoop.fs.s3a.SimpleAWSCredentialsProvider\") \\\n",
    "        .config(\"hive.metastore.uris\", \"thrift://metastore:9083\") \\\n",
    "        .config(\"spark.sql.extensions\", \"io.delta.sql.DeltaSparkSessionExtension\") \\\n",
    "        .config(\"spark.sql.catalog.spark_catalog\", \"org.apache.spark.sql.delta.catalog.DeltaCatalog\") \\\n",
    "        .getOrCreate()\n",
    "\n",
    "\n",
    "logging.basicConfig(level=logging.INFO, format='%(asctime)s - %(levelname)s - %(message)s')\n",
    "\n",
    "\n",
    "logging.info(\"Starting ingestions from AdventureWorks to Landing Zone...\")\n",
    "\n",
    "for table_input_name in configs.tables_postgres_adventureworks.values():\n",
    "    try:\n",
    "        table_input_path = F.convert_table_name(table_input_name)\n",
    "\n",
    "\n",
    "        df_input_data = spark.read \\\n",
    "            .format(\"jdbc\") \\\n",
    "            .option(\"url\", \"jdbc:postgresql://172.21.121.140:5435/Adventureworks\") \\\n",
    "            .option(\"user\", \"postgres\") \\\n",
    "            .option(\"dbtable\", table_input_name) \\\n",
    "            .option(\"password\", \"postgres\") \\\n",
    "            .option(\"driver\", \"org.postgresql.Driver\") \\\n",
    "            .load()\n",
    "\n",
    "        output_table_name = configs.lake_path['landing_zone_adventure_works']\n",
    "        output_table_path = f\"{output_table_name}{table_input_path}\"\n",
    "\n",
    "        logging.info(f\"Processing table: {table_input_path}\")\n",
    "\n",
    "\n",
    "        df_with_update_date = F.add_metadata(df_input_data)\n",
    "\n",
    "\n",
    "        df_with_month_key = F.add_month_key_column(df_with_update_date, 'modifieddate')\n",
    "\n",
    "        df_with_month_key.write.format(\"parquet\").mode(\"overwrite\").partitionBy('month_key').save(output_table_path)\n",
    "\n",
    "        logging.info(f\"Table {table_input_path} successfully processed and saved to HDFS: {output_table_path}\")\n",
    "\n",
    "    except Exception as e:\n",
    "\n",
    "        logging.error(f\"Error processing table {table_input_name}: {str(e)}\")\n",
    "\n",
    "\n",
    "logging.info(\"Ingestions to Landing Zone completed!\")"
   ]
  }
 ],
 "metadata": {
  "kernelspec": {
   "display_name": "Python 3 (ipykernel)",
   "language": "python",
   "name": "python3"
  },
  "language_info": {
   "codemirror_mode": {
    "name": "ipython",
    "version": 3
   },
   "file_extension": ".py",
   "mimetype": "text/x-python",
   "name": "python",
   "nbconvert_exporter": "python",
   "pygments_lexer": "ipython3",
   "version": "3.10.8"
  }
 },
 "nbformat": 4,
 "nbformat_minor": 5
}
