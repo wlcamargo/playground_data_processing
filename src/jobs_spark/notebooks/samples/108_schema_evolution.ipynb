{
 "cells": [
  {
   "cell_type": "code",
   "execution_count": 1,
   "id": "7590f79e-9be5-41c7-9ad8-4d264b6699e3",
   "metadata": {},
   "outputs": [],
   "source": [
    "from pyspark import SparkConf\n",
    "from pyspark.sql import SparkSession\n",
    "from pyspark.sql.types import *\n",
    "\n",
    "# Configuração do Spark\n",
    "conf = SparkConf()\n",
    "conf.setAppName(\"Schema Evolution Sample\")\n",
    "conf.set(\"spark.hadoop.fs.s3a.endpoint\", \"http://minio:9000\")\n",
    "conf.set(\"spark.hadoop.fs.s3a.access.key\", \"chapolin\")\n",
    "conf.set(\"spark.hadoop.fs.s3a.secret.key\", \"mudar@123\")\n",
    "conf.set(\"spark.hadoop.fs.s3a.path.style.access\", \"true\")  # Ajustado para string\n",
    "conf.set(\"spark.hadoop.fs.s3a.impl\", \"org.apache.hadoop.fs.s3a.S3AFileSystem\")\n",
    "conf.set(\"spark.hadoop.fs.s3a.aws.credentials.provider\", \"org.apache.hadoop.fs.s3a.SimpleAWSCredentialsProvider\")\n",
    "conf.set(\"spark.sql.extensions\", \"io.delta.sql.DeltaSparkSessionExtension\")\n",
    "conf.set(\"spark.sql.catalog.spark_catalog\", \"org.apache.spark.sql.delta.catalog.DeltaCatalog\")\n",
    "conf.set(\"hive.metastore.uris\", \"thrift://metastore:9083\")\n",
    "\n",
    "# Inicialização da sessão do Spark\n",
    "spark = SparkSession.builder.config(conf=conf).enableHiveSupport().getOrCreate()\n"
   ]
  },
  {
   "cell_type": "code",
   "execution_count": 2,
   "id": "efb3dc70-8287-4e11-902a-5098e958bb9d",
   "metadata": {},
   "outputs": [
    {
     "name": "stdout",
     "output_type": "stream",
     "text": [
      "+-----+---+-----------------+\n",
      "| name|age|            email|\n",
      "+-----+---+-----------------+\n",
      "| John| 25| john@example.com|\n",
      "|Alice| 30|alice@example.com|\n",
      "+-----+---+-----------------+\n",
      "\n"
     ]
    }
   ],
   "source": [
    "data = [(\"John\", 25, \"john@example.com\"),\n",
    "        (\"Alice\", 30, \"alice@example.com\")]\n",
    "schema = StructType([\n",
    "    StructField(\"name\", StringType(), True),\n",
    "    StructField(\"age\", IntegerType(), True),\n",
    "    StructField(\"email\", StringType(), True)\n",
    "])\n",
    "df = spark.createDataFrame(data, schema)\n",
    "df.show()\n"
   ]
  },
  {
   "cell_type": "code",
   "execution_count": 3,
   "id": "e39175a0-efbe-406f-a26f-91b36672c0d8",
   "metadata": {},
   "outputs": [],
   "source": [
    "df.write.format(\"delta\").mode(\"append\").save('s3a://bronze/delta_customer')"
   ]
  },
  {
   "cell_type": "code",
   "execution_count": 6,
   "id": "b68db28b-0655-4f7b-a53b-1669a9ad15f0",
   "metadata": {},
   "outputs": [
    {
     "name": "stdout",
     "output_type": "stream",
     "text": [
      "+-----+---+-----------------+\n",
      "| name|age|            email|\n",
      "+-----+---+-----------------+\n",
      "|Alice| 30|alice@example.com|\n",
      "| John| 25| john@example.com|\n",
      "+-----+---+-----------------+\n",
      "\n"
     ]
    }
   ],
   "source": [
    "delta_df = spark.read.format(\"delta\").load('s3a://bronze/delta_customer').show()"
   ]
  },
  {
   "cell_type": "code",
   "execution_count": 8,
   "id": "d712b62b-be38-4d39-9b87-d5b15aafb4c8",
   "metadata": {},
   "outputs": [
    {
     "name": "stdout",
     "output_type": "stream",
     "text": [
      "+-----+---+-----------------+-------------+\n",
      "| name|age|            email|         city|\n",
      "+-----+---+-----------------+-------------+\n",
      "| Mike| 28| mike@example.com|     New York|\n",
      "|Emily| 35|emily@example.com|San Francisco|\n",
      "+-----+---+-----------------+-------------+\n",
      "\n"
     ]
    }
   ],
   "source": [
    "# Novo DataFrame com a coluna adicional\n",
    "new_data = [(\"Mike\", 28, \"mike@example.com\", \"New York\"),\n",
    "            (\"Emily\", 35, \"emily@example.com\", \"San Francisco\")]\n",
    "new_schema = StructType([\n",
    "    StructField(\"name\", StringType(), True),\n",
    "    StructField(\"age\", IntegerType(), True),\n",
    "    StructField(\"email\", StringType(), True),\n",
    "    StructField(\"city\", StringType(), True)  # Nova coluna adicionada\n",
    "])\n",
    "new_df = spark.createDataFrame(new_data, new_schema)\n",
    "new_df.show()\n",
    "\n",
    "# Salvar o novo DataFrame como Delta e adicionar a coluna à tabela Delta existente\n",
    "new_df.write.format(\"delta\").mode(\"append\").option(\"mergeSchema\", \"true\").save('s3a://bronze/delta_customer')"
   ]
  },
  {
   "cell_type": "code",
   "execution_count": 9,
   "id": "31a41585-b709-4905-a362-00eef4f13c93",
   "metadata": {},
   "outputs": [
    {
     "name": "stdout",
     "output_type": "stream",
     "text": [
      "+-----+---+-----------------+-------------+\n",
      "| name|age|            email|         city|\n",
      "+-----+---+-----------------+-------------+\n",
      "|Emily| 35|emily@example.com|San Francisco|\n",
      "| Mike| 28| mike@example.com|     New York|\n",
      "|Alice| 30|alice@example.com|         null|\n",
      "| John| 25| john@example.com|         null|\n",
      "+-----+---+-----------------+-------------+\n",
      "\n"
     ]
    }
   ],
   "source": [
    "delta_df = spark.read.format(\"delta\").load('s3a://bronze/delta_customer').show()"
   ]
  }
 ],
 "metadata": {
  "kernelspec": {
   "display_name": "Python 3 (ipykernel)",
   "language": "python",
   "name": "python3"
  },
  "language_info": {
   "codemirror_mode": {
    "name": "ipython",
    "version": 3
   },
   "file_extension": ".py",
   "mimetype": "text/x-python",
   "name": "python",
   "nbconvert_exporter": "python",
   "pygments_lexer": "ipython3",
   "version": "3.10.8"
  }
 },
 "nbformat": 4,
 "nbformat_minor": 5
}
