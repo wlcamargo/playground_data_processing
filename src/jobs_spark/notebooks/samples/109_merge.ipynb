{
 "cells": [
  {
   "cell_type": "code",
   "execution_count": 9,
   "id": "c5d0e888-14f3-4676-9026-b3853acbdf8b",
   "metadata": {},
   "outputs": [],
   "source": [
    "from pyspark import SparkConf\n",
    "from pyspark.sql import SparkSession\n",
    "from pyspark.sql.types import *\n",
    "\n",
    "# Configuração do Spark\n",
    "conf = SparkConf()\n",
    "conf.setAppName(\"Merge Delta Table Sample\")\n",
    "conf.set(\"spark.hadoop.fs.s3a.endpoint\", \"http://minio:9000\")\n",
    "conf.set(\"spark.hadoop.fs.s3a.access.key\", \"chapolin\")\n",
    "conf.set(\"spark.hadoop.fs.s3a.secret.key\", \"mudar@123\")\n",
    "conf.set(\"spark.hadoop.fs.s3a.path.style.access\", \"true\")\n",
    "conf.set(\"spark.hadoop.fs.s3a.impl\", \"org.apache.hadoop.fs.s3a.S3AFileSystem\")\n",
    "conf.set(\"spark.hadoop.fs.s3a.aws.credentials.provider\", \"org.apache.hadoop.fs.s3a.SimpleAWSCredentialsProvider\")\n",
    "conf.set(\"spark.sql.extensions\", \"io.delta.sql.DeltaSparkSessionExtension\")\n",
    "conf.set(\"spark.sql.catalog.spark_catalog\", \"org.apache.spark.sql.delta.catalog.DeltaCatalog\")\n",
    "conf.set(\"hive.metastore.uris\", \"thrift://metastore:9083\")\n",
    "\n",
    "# Inicialização da sessão do Spark\n",
    "spark = SparkSession.builder.config(conf=conf).enableHiveSupport().getOrCreate()\n",
    "\n"
   ]
  },
  {
   "cell_type": "code",
   "execution_count": 19,
   "id": "e116f68c-8ffc-4c4a-ac6e-be064b06b0ab",
   "metadata": {},
   "outputs": [],
   "source": [
    "# Dados de exemplo para inserção e atualização\n",
    "data_insert = [\n",
    "    (\"Product A\", 100),\n",
    "    (\"Product B\", 150),\n",
    "    (\"Product C\", 200)\n",
    "]\n",
    "\n",
    "data_update = [\n",
    "    (\"Product A\", 777),\n",
    "    (\"Product D\", 300)\n",
    "]\n",
    "\n",
    "# Esquema dos dados\n",
    "schema = StructType([\n",
    "    StructField(\"product_name\", StringType(), True),\n",
    "    StructField(\"price\", IntegerType(), True)\n",
    "])\n",
    "\n",
    "# Criando DataFrames\n",
    "df_insert = spark.createDataFrame(data_insert, schema)\n",
    "df_update = spark.createDataFrame(data_update, schema)\n",
    "\n"
   ]
  },
  {
   "cell_type": "code",
   "execution_count": 11,
   "id": "80b6543e-6ef6-4589-b373-d7b8c8f8b1a5",
   "metadata": {},
   "outputs": [
    {
     "name": "stdout",
     "output_type": "stream",
     "text": [
      "+------------+-----+\n",
      "|product_name|price|\n",
      "+------------+-----+\n",
      "|   Product A|  100|\n",
      "|   Product B|  150|\n",
      "|   Product C|  200|\n",
      "+------------+-----+\n",
      "\n"
     ]
    }
   ],
   "source": [
    "df_insert.show()"
   ]
  },
  {
   "cell_type": "code",
   "execution_count": 13,
   "id": "223e9b04-f2d4-4f46-afe6-64132994cb4f",
   "metadata": {},
   "outputs": [],
   "source": [
    "df_insert.write.format(\"delta\").mode(\"overwrite\").save(\"s3a://bronze/delta_products\")"
   ]
  },
  {
   "cell_type": "code",
   "execution_count": 14,
   "id": "cf0778d5-1d6b-4371-97c4-304c0f5c608f",
   "metadata": {},
   "outputs": [
    {
     "name": "stdout",
     "output_type": "stream",
     "text": [
      "+------------+-----+\n",
      "|product_name|price|\n",
      "+------------+-----+\n",
      "|   Product C|  200|\n",
      "|   Product A|  100|\n",
      "|   Product B|  150|\n",
      "+------------+-----+\n",
      "\n"
     ]
    }
   ],
   "source": [
    "df_loaded = spark.read.format(\"delta\").load(\"s3a://bronze/delta_products\")\n",
    "df_loaded.show()"
   ]
  },
  {
   "cell_type": "code",
   "execution_count": 20,
   "id": "12014c86-7433-4427-a2a1-db0c51d70bd0",
   "metadata": {},
   "outputs": [
    {
     "name": "stdout",
     "output_type": "stream",
     "text": [
      "+------------+-----+\n",
      "|product_name|price|\n",
      "+------------+-----+\n",
      "|   Product A|  777|\n",
      "|   Product D|  300|\n",
      "+------------+-----+\n",
      "\n"
     ]
    }
   ],
   "source": [
    "df_update.show()"
   ]
  },
  {
   "cell_type": "code",
   "execution_count": 21,
   "id": "ddfa0e10-9652-4f3e-bb2a-7f37559446c0",
   "metadata": {},
   "outputs": [],
   "source": [
    "from delta.tables import DeltaTable\n",
    "\n",
    "delta_table = DeltaTable.forPath(spark, \"s3a://bronze/delta_products\")\n",
    "\n",
    "(delta_table.alias(\"target\")\n",
    "    .merge(\n",
    "        df_update.alias(\"source\"),\n",
    "        \"target.product_name = source.product_name\"\n",
    "    )\n",
    "    .whenMatchedUpdate(set={\"price\": \"source.price\"})\n",
    "    .whenNotMatchedInsert(values={\"product_name\": \"source.product_name\", \"price\": \"source.price\"})\n",
    "    .execute())"
   ]
  },
  {
   "cell_type": "code",
   "execution_count": 22,
   "id": "8e080a25-77b3-4314-b0e1-ddab63cc4b0d",
   "metadata": {},
   "outputs": [
    {
     "name": "stdout",
     "output_type": "stream",
     "text": [
      "+------------+-----+\n",
      "|product_name|price|\n",
      "+------------+-----+\n",
      "|   Product C|  200|\n",
      "|   Product B|  150|\n",
      "|   Product A|  777|\n",
      "|   Product D|  300|\n",
      "+------------+-----+\n",
      "\n"
     ]
    }
   ],
   "source": [
    "df_loaded = spark.read.format(\"delta\").load(\"s3a://bronze/delta_products\")\n",
    "df_loaded.show()"
   ]
  }
 ],
 "metadata": {
  "kernelspec": {
   "display_name": "Python 3 (ipykernel)",
   "language": "python",
   "name": "python3"
  },
  "language_info": {
   "codemirror_mode": {
    "name": "ipython",
    "version": 3
   },
   "file_extension": ".py",
   "mimetype": "text/x-python",
   "name": "python",
   "nbconvert_exporter": "python",
   "pygments_lexer": "ipython3",
   "version": "3.10.8"
  }
 },
 "nbformat": 4,
 "nbformat_minor": 5
}
