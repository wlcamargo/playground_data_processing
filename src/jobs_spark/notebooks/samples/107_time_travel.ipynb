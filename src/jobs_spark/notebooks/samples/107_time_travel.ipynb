{
 "cells": [
  {
   "cell_type": "code",
   "execution_count": 1,
   "id": "7e9ed181-5e01-4e95-96ab-7259f1922ee1",
   "metadata": {},
   "outputs": [],
   "source": [
    "from pyspark import SparkContext, SparkConf\n",
    "from pyspark.sql import SparkSession\n",
    "from pyspark.sql.functions import *\n",
    "from pyspark.sql.types import *\n",
    "\n",
    "\n",
    "# Configuração do Spark\n",
    "conf = SparkConf()\n",
    "conf.setAppName(\"Write Delta Bronze Employee\")\n",
    "conf.set(\"spark.hadoop.fs.s3a.endpoint\", \"http://minio:9000\")\n",
    "conf.set(\"spark.hadoop.fs.s3a.access.key\", \"chapolin\")\n",
    "conf.set(\"spark.hadoop.fs.s3a.secret.key\", \"mudar@123\")\n",
    "conf.set(\"spark.hadoop.fs.s3a.path.style.access\", True)\n",
    "conf.set(\"spark.hadoop.fs.s3a.impl\", \"org.apache.hadoop.fs.s3a.S3AFileSystem\")\n",
    "conf.set('spark.hadoop.fs.s3a.aws.credentials.provider', 'org.apache.hadoop.fs.s3a.SimpleAWSCredentialsProvider')\n",
    "conf.set(\"spark.sql.extensions\", \"io.delta.sql.DeltaSparkSessionExtension\")\n",
    "conf.set(\"spark.sql.catalog.spark_catalog\", \"org.apache.spark.sql.delta.catalog.DeltaCatalog\") \n",
    "conf.set(\"hive.metastore.uris\", \"thrift://metastore:9083\")\n",
    "\n",
    "# Inicialização da sessão do Spark\n",
    "spark = SparkSession.builder.config(conf=conf).enableHiveSupport().getOrCreate()\n"
   ]
  },
  {
   "cell_type": "code",
   "execution_count": 2,
   "id": "55bb0786-154b-45af-9141-9faa9f301607",
   "metadata": {},
   "outputs": [
    {
     "name": "stdout",
     "output_type": "stream",
     "text": [
      "+---------+----------+--------+-----+------+------+\n",
      "|firstname|middlename|lastname|   id|gender|salary|\n",
      "+---------+----------+--------+-----+------+------+\n",
      "|    James|          |   Smith|36636|     M|  3000|\n",
      "|  Michael|      Rose|        |40288|     M|  4000|\n",
      "|   Robert|          |Williams|42114|     M|  4000|\n",
      "|    Maria|      Anne|   Jones|39192|     F|  4000|\n",
      "|      Jen|      Mary|   Brown|     |     F|    -1|\n",
      "+---------+----------+--------+-----+------+------+\n",
      "\n"
     ]
    }
   ],
   "source": [
    "\n",
    "# Dados de exemplo\n",
    "data2 = [(\"James\", \"\", \"Smith\", \"36636\", \"M\", 3000),\n",
    "         (\"Michael\", \"Rose\", \"\", \"40288\", \"M\", 4000),\n",
    "         (\"Robert\", \"\", \"Williams\", \"42114\", \"M\", 4000),\n",
    "         (\"Maria\", \"Anne\", \"Jones\", \"39192\", \"F\", 4000),\n",
    "         (\"Jen\", \"Mary\", \"Brown\", \"\", \"F\", -1)]\n",
    "\n",
    "# Esquema dos dados\n",
    "schema = StructType([\n",
    "    StructField(\"firstname\", StringType(), True),\n",
    "    StructField(\"middlename\", StringType(), True),\n",
    "    StructField(\"lastname\", StringType(), True),\n",
    "    StructField(\"id\", StringType(), True),\n",
    "    StructField(\"gender\", StringType(), True),\n",
    "    StructField(\"salary\", IntegerType(), True)\n",
    "])\n",
    "\n",
    "# Criando DataFrame\n",
    "df = spark.createDataFrame(data=data2, schema=schema)\n",
    "\n",
    "df.show()\n",
    "\n",
    "df.write.format(\"delta\").mode(\"append\").save('s3a://bronze/delta_employee')"
   ]
  },
  {
   "cell_type": "code",
   "execution_count": 3,
   "id": "bc58930a-6e49-44e4-afeb-2bcd514202fd",
   "metadata": {},
   "outputs": [
    {
     "name": "stdout",
     "output_type": "stream",
     "text": [
      "+---------+----------+--------+-----+------+------+\n",
      "|firstname|middlename|lastname|   id|gender|salary|\n",
      "+---------+----------+--------+-----+------+------+\n",
      "|   Robert|          |Williams|42114|     M|  4000|\n",
      "|   Robert|          |Williams|42114|     M|  4000|\n",
      "|   Robert|          |Williams|42114|     M|  4000|\n",
      "|   Robert|          |Williams|42114|     M|  4000|\n",
      "|    Maria|      Anne|   Jones|39192|     F|  4000|\n",
      "|    Maria|      Anne|   Jones|39192|     F|  4000|\n",
      "|    Maria|      Anne|   Jones|39192|     F|  4000|\n",
      "|    Maria|      Anne|   Jones|39192|     F|  4000|\n",
      "|    Maria|      Anne|   Jones|39192|     F|  4000|\n",
      "|  Michael|      Rose|        |40288|     M|  4000|\n",
      "|  Michael|      Rose|        |40288|     M|  4000|\n",
      "|  Michael|      Rose|        |40288|     M|  4000|\n",
      "|  Michael|      Rose|        |40288|     M|  4000|\n",
      "|  Michael|      Rose|        |40288|     M|  4000|\n",
      "|    James|          |   Smith|36636|     M|  3000|\n",
      "|    James|          |   Smith|36636|     M|  3000|\n",
      "|    James|          |   Smith|36636|     M|  3000|\n",
      "|    James|          |   Smith|36636|     M|  3000|\n",
      "|      Jen|      Mary|   Brown|     |     F|    -1|\n",
      "|      Jen|      Mary|   Brown|     |     F|    -1|\n",
      "+---------+----------+--------+-----+------+------+\n",
      "only showing top 20 rows\n",
      "\n"
     ]
    }
   ],
   "source": [
    "spark.read.format(\"delta\").option(\"versionAsOf\", \"4\").load('s3a://bronze/delta_employee').show()"
   ]
  },
  {
   "cell_type": "code",
   "execution_count": 2,
   "id": "777ba16c-c08b-425c-87d8-d6201aa171cc",
   "metadata": {},
   "outputs": [
    {
     "name": "stdout",
     "output_type": "stream",
     "text": [
      "+-------+-------------------+------+--------+---------+----------------------------------------+----+--------+---------------+-----------+-----------------+-------------+--------------------------------------------------------------+------------+-----------------------------------+\n",
      "|version|timestamp          |userId|userName|operation|operationParameters                     |job |notebook|clusterId      |readVersion|isolationLevel   |isBlindAppend|operationMetrics                                              |userMetadata|engineInfo                         |\n",
      "+-------+-------------------+------+--------+---------+----------------------------------------+----+--------+---------------+-----------+-----------------+-------------+--------------------------------------------------------------+------------+-----------------------------------+\n",
      "|14     |2024-07-01 09:49:22|null  |null    |WRITE    |{mode -> Append, partitionBy -> []}     |null|null    |null           |13         |Serializable     |true         |{numFiles -> 6, numOutputRows -> 5, numOutputBytes -> 9028}   |null        |Apache-Spark/3.3.1 Delta-Lake/2.2.0|\n",
      "|13     |2024-07-01 09:00:11|trino |trino   |WRITE    |{queryId -> 20240701_090011_00056_9rh2z}|null|null    |trino-405-trino|12         |WriteSerializable|null         |null                                                          |null        |null                               |\n",
      "|12     |2024-07-01 08:58:22|trino |trino   |MERGE    |{queryId -> 20240701_085822_00036_9rh2z}|null|null    |trino-405-trino|11         |WriteSerializable|null         |null                                                          |null        |null                               |\n",
      "|11     |2024-07-01 08:52:28|trino |trino   |WRITE    |{queryId -> 20240701_085228_00016_9rh2z}|null|null    |trino-405-trino|10         |WriteSerializable|null         |null                                                          |null        |null                               |\n",
      "|10     |2024-07-01 01:35:07|null  |null    |WRITE    |{mode -> Overwrite, partitionBy -> []}  |null|null    |null           |9          |Serializable     |false        |{numFiles -> 5, numOutputRows -> 5, numOutputBytes -> 8280}   |null        |Apache-Spark/3.3.1 Delta-Lake/2.2.0|\n",
      "|9      |2024-07-01 01:35:03|null  |null    |WRITE    |{mode -> Append, partitionBy -> []}     |null|null    |null           |8          |Serializable     |true         |{numFiles -> 6, numOutputRows -> 5, numOutputBytes -> 9028}   |null        |Apache-Spark/3.3.1 Delta-Lake/2.2.0|\n",
      "|8      |2024-06-29 21:54:58|null  |null    |WRITE    |{mode -> Overwrite, partitionBy -> []}  |null|null    |null           |7          |Serializable     |false        |{numFiles -> 5, numOutputRows -> 5, numOutputBytes -> 8280}   |null        |Apache-Spark/3.3.1 Delta-Lake/2.2.0|\n",
      "|7      |2024-06-29 21:53:40|trino |trino   |MERGE    |{queryId -> 20240629_215340_00035_bk5ff}|null|null    |trino-405-trino|6          |WriteSerializable|null         |null                                                          |null        |null                               |\n",
      "|6      |2024-06-29 21:52:44|null  |null    |WRITE    |{mode -> Overwrite, partitionBy -> []}  |null|null    |null           |5          |Serializable     |false        |{numFiles -> 10, numOutputRows -> 10, numOutputBytes -> 16560}|null        |Apache-Spark/3.3.1 Delta-Lake/2.2.0|\n",
      "|5      |2024-06-29 21:51:50|null  |null    |WRITE    |{mode -> Overwrite, partitionBy -> []}  |null|null    |null           |4          |Serializable     |false        |{numFiles -> 5, numOutputRows -> 5, numOutputBytes -> 8280}   |null        |Apache-Spark/3.3.1 Delta-Lake/2.2.0|\n",
      "|4      |2024-06-29 21:48:53|null  |null    |WRITE    |{mode -> Append, partitionBy -> []}     |null|null    |null           |3          |Serializable     |true         |{numFiles -> 6, numOutputRows -> 5, numOutputBytes -> 9028}   |null        |Apache-Spark/3.3.1 Delta-Lake/2.2.0|\n",
      "|3      |2024-06-29 21:46:46|null  |null    |WRITE    |{mode -> Append, partitionBy -> []}     |null|null    |null           |2          |Serializable     |true         |{numFiles -> 6, numOutputRows -> 5, numOutputBytes -> 9028}   |null        |Apache-Spark/3.3.1 Delta-Lake/2.2.0|\n",
      "|2      |2024-06-29 21:46:17|null  |null    |WRITE    |{mode -> Append, partitionBy -> []}     |null|null    |null           |1          |Serializable     |true         |{numFiles -> 6, numOutputRows -> 5, numOutputBytes -> 9028}   |null        |Apache-Spark/3.3.1 Delta-Lake/2.2.0|\n",
      "|1      |2024-06-29 21:44:46|null  |null    |WRITE    |{mode -> Append, partitionBy -> []}     |null|null    |null           |0          |Serializable     |true         |{numFiles -> 6, numOutputRows -> 5, numOutputBytes -> 9028}   |null        |Apache-Spark/3.3.1 Delta-Lake/2.2.0|\n",
      "|0      |2024-06-29 21:39:02|null  |null    |WRITE    |{mode -> Append, partitionBy -> []}     |null|null    |null           |null       |Serializable     |true         |{numFiles -> 6, numOutputRows -> 5, numOutputBytes -> 9028}   |null        |Apache-Spark/3.3.1 Delta-Lake/2.2.0|\n",
      "+-------+-------------------+------+--------+---------+----------------------------------------+----+--------+---------------+-----------+-----------------+-------------+--------------------------------------------------------------+------------+-----------------------------------+\n",
      "\n"
     ]
    }
   ],
   "source": [
    "from delta.tables import DeltaTable\n",
    "from pyspark.sql import SparkSession\n",
    "\n",
    "# Cria a sessão do Spark\n",
    "spark = SparkSession.builder \\\n",
    "    .appName(\"DeltaTableHistory\") \\\n",
    "    .getOrCreate()\n",
    "\n",
    "# Caminho para a tabela Delta no S3\n",
    "table_path = 's3a://bronze/delta_employee'\n",
    "\n",
    "# Obter a tabela Delta\n",
    "delta_table = DeltaTable.forPath(spark, table_path)\n",
    "\n",
    "# Obter o histórico da tabela Delta\n",
    "history_df = delta_table.history()\n",
    "\n",
    "# Mostrar o histórico da tabela\n",
    "history_df.show(truncate=False)\n",
    "\n"
   ]
  },
  {
   "cell_type": "markdown",
   "id": "232d8b90-f73e-4e43-a241-7a72fcf2c53e",
   "metadata": {},
   "source": [
    "# Voltando para a versao 0"
   ]
  },
  {
   "cell_type": "code",
   "execution_count": 5,
   "id": "f49d96f9-fa27-42c9-b775-00cafd227e8d",
   "metadata": {},
   "outputs": [],
   "source": [
    "from delta.tables import DeltaTable\n",
    "\n",
    "# Caminho para a tabela Delta no S3\n",
    "table_path = 's3a://bronze/delta_employee'\n",
    "\n",
    "# Obter a tabela Delta\n",
    "delta_table = DeltaTable.forPath(spark, table_path)\n",
    "\n",
    "# Ler a versão 0 da tabela\n",
    "df_version_0 = spark.read.format(\"delta\").option(\"versionAsOf\", 0).load(table_path)\n",
    "\n",
    "# Sobrescrever a tabela atual com os dados da versão 0\n",
    "df_version_0.write.format(\"delta\").mode(\"overwrite\").save(table_path)\n"
   ]
  },
  {
   "cell_type": "code",
   "execution_count": 3,
   "id": "a7c90d00-7d64-4ea5-ae8b-9b0fade0aceb",
   "metadata": {},
   "outputs": [
    {
     "name": "stdout",
     "output_type": "stream",
     "text": [
      "+---------+----------+--------+-----+------+------+\n",
      "|firstname|middlename|lastname|   id|gender|salary|\n",
      "+---------+----------+--------+-----+------+------+\n",
      "|   Robert|          |Williams|42114|     M|  4000|\n",
      "|   Robert|          |Williams|42114|     M|  4000|\n",
      "|    Maria|      Anne|   Jones|39192|     F|  4000|\n",
      "|    Maria|      Anne|   Jones|39192|     F|  4000|\n",
      "|  Michael|      Rose|        |40288|     M|  4000|\n",
      "|  Michael|      Rose|        |40288|     M|  4000|\n",
      "|    James|          |   Smith|36636|     M|  3000|\n",
      "|    James|          |   Smith|36636|     M|  3000|\n",
      "|      Jen|      Mary|   Brown|     |     F|    -1|\n",
      "|      Jen|      Mary|   Brown|     |     F|    -1|\n",
      "|  wallace|   Camargo|   Graca|77777|     M| 50000|\n",
      "+---------+----------+--------+-----+------+------+\n",
      "\n"
     ]
    }
   ],
   "source": [
    "# Ler a tabela Delta\n",
    "df = spark.read.format(\"delta\").load('s3a://bronze/delta_employee')\n",
    "\n",
    "# Mostrar os dados da tabela\n",
    "df.show()\n"
   ]
  },
  {
   "cell_type": "code",
   "execution_count": 4,
   "id": "1d7b9933-7a59-4e90-879f-9e8abe41c2e8",
   "metadata": {},
   "outputs": [
    {
     "name": "stdout",
     "output_type": "stream",
     "text": [
      "+-------+-------------------+---------+----------------------------------------+--------------------------------------------------------------+\n",
      "|version|timestamp          |operation|operationParameters                     |operationMetrics                                              |\n",
      "+-------+-------------------+---------+----------------------------------------+--------------------------------------------------------------+\n",
      "|14     |2024-07-01 09:49:22|WRITE    |{mode -> Append, partitionBy -> []}     |{numFiles -> 6, numOutputRows -> 5, numOutputBytes -> 9028}   |\n",
      "|13     |2024-07-01 09:00:11|WRITE    |{queryId -> 20240701_090011_00056_9rh2z}|null                                                          |\n",
      "|12     |2024-07-01 08:58:22|MERGE    |{queryId -> 20240701_085822_00036_9rh2z}|null                                                          |\n",
      "|11     |2024-07-01 08:52:28|WRITE    |{queryId -> 20240701_085228_00016_9rh2z}|null                                                          |\n",
      "|10     |2024-07-01 01:35:07|WRITE    |{mode -> Overwrite, partitionBy -> []}  |{numFiles -> 5, numOutputRows -> 5, numOutputBytes -> 8280}   |\n",
      "|9      |2024-07-01 01:35:03|WRITE    |{mode -> Append, partitionBy -> []}     |{numFiles -> 6, numOutputRows -> 5, numOutputBytes -> 9028}   |\n",
      "|8      |2024-06-29 21:54:58|WRITE    |{mode -> Overwrite, partitionBy -> []}  |{numFiles -> 5, numOutputRows -> 5, numOutputBytes -> 8280}   |\n",
      "|7      |2024-06-29 21:53:40|MERGE    |{queryId -> 20240629_215340_00035_bk5ff}|null                                                          |\n",
      "|6      |2024-06-29 21:52:44|WRITE    |{mode -> Overwrite, partitionBy -> []}  |{numFiles -> 10, numOutputRows -> 10, numOutputBytes -> 16560}|\n",
      "|5      |2024-06-29 21:51:50|WRITE    |{mode -> Overwrite, partitionBy -> []}  |{numFiles -> 5, numOutputRows -> 5, numOutputBytes -> 8280}   |\n",
      "|4      |2024-06-29 21:48:53|WRITE    |{mode -> Append, partitionBy -> []}     |{numFiles -> 6, numOutputRows -> 5, numOutputBytes -> 9028}   |\n",
      "|3      |2024-06-29 21:46:46|WRITE    |{mode -> Append, partitionBy -> []}     |{numFiles -> 6, numOutputRows -> 5, numOutputBytes -> 9028}   |\n",
      "|2      |2024-06-29 21:46:17|WRITE    |{mode -> Append, partitionBy -> []}     |{numFiles -> 6, numOutputRows -> 5, numOutputBytes -> 9028}   |\n",
      "|1      |2024-06-29 21:44:46|WRITE    |{mode -> Append, partitionBy -> []}     |{numFiles -> 6, numOutputRows -> 5, numOutputBytes -> 9028}   |\n",
      "|0      |2024-06-29 21:39:02|WRITE    |{mode -> Append, partitionBy -> []}     |{numFiles -> 6, numOutputRows -> 5, numOutputBytes -> 9028}   |\n",
      "+-------+-------------------+---------+----------------------------------------+--------------------------------------------------------------+\n",
      "\n"
     ]
    }
   ],
   "source": [
    "\n",
    "from delta.tables import DeltaTable\n",
    "from pyspark.sql import SparkSession\n",
    "\n",
    "# Cria a sessão do Spark\n",
    "spark = SparkSession.builder \\\n",
    "    .appName(\"CheckDeltaOperations\") \\\n",
    "    .getOrCreate()\n",
    "\n",
    "# Caminho para a tabela Delta no S3\n",
    "table_path = 's3a://bronze/delta_employee'\n",
    "\n",
    "# Obter a tabela Delta\n",
    "delta_table = DeltaTable.forPath(spark, table_path)\n",
    "\n",
    "# Obter o histórico da tabela Delta\n",
    "history_df = delta_table.history()\n",
    "\n",
    "# Filtrar e mostrar operações de inserts, updates e deletes\n",
    "operations_df = history_df.filter(\"operation != 'READ'\").select(\"version\", \"timestamp\", \"operation\", \"operationParameters\", \"operationMetrics\")\n",
    "\n",
    "# Mostrar o resultado\n",
    "operations_df.show(truncate=False)\n"
   ]
  },
  {
   "cell_type": "markdown",
   "id": "d85f9b5d-eaed-47a2-8db5-ce1273ea2358",
   "metadata": {},
   "source": [
    "# Vacuum"
   ]
  },
  {
   "cell_type": "code",
   "execution_count": 4,
   "id": "58f3e7a2-762b-4c3c-a87c-cbcff411b8d6",
   "metadata": {},
   "outputs": [
    {
     "name": "stdout",
     "output_type": "stream",
     "text": [
      "Vacuum concluído com sucesso na tabela Delta, removendo dados antigos dos últimos 7 dias.\n"
     ]
    }
   ],
   "source": [
    "from delta.tables import DeltaTable\n",
    "from pyspark.sql import SparkSession\n",
    "from datetime import datetime, timedelta\n",
    "\n",
    "# Cria a sessão do Spark\n",
    "spark = SparkSession.builder \\\n",
    "    .appName(\"DeltaTableVacuum\") \\\n",
    "    .getOrCreate()\n",
    "\n",
    "# Caminho para a tabela Delta no S3\n",
    "table_path = 's3a://bronze/delta_employee'\n",
    "\n",
    "# Obter a tabela Delta\n",
    "delta_table = DeltaTable.forPath(spark, table_path)\n",
    "\n",
    "# Calcular a quantidade de horas para retenção (7 dias em horas)\n",
    "retention_hours = 7 * 24  # 7 dias = 7 * 24 horas\n",
    "\n",
    "# Executar o vacuum na tabela Delta especificando o tempo de retenção\n",
    "delta_table.vacuum(retention_hours)\n",
    "\n",
    "print(\"Vacuum concluído com sucesso na tabela Delta, removendo dados antigos dos últimos 7 dias.\")\n"
   ]
  },
  {
   "cell_type": "markdown",
   "id": "562d0e9e-aae8-4589-b4d1-b91b690039cb",
   "metadata": {},
   "source": [
    "# Optimize"
   ]
  },
  {
   "cell_type": "code",
   "execution_count": 6,
   "id": "ab2fb7b9-a257-4e9c-9404-549eda094f09",
   "metadata": {},
   "outputs": [
    {
     "name": "stdout",
     "output_type": "stream",
     "text": [
      "Optimize concluído com sucesso na tabela Delta.\n"
     ]
    }
   ],
   "source": [
    "from delta.tables import DeltaTable\n",
    "from pyspark.sql import SparkSession\n",
    "\n",
    "# Cria a sessão do Spark\n",
    "spark = SparkSession.builder \\\n",
    "    .appName(\"DeltaTableOptimize\") \\\n",
    "    .getOrCreate()\n",
    "\n",
    "# Caminho para a tabela Delta no S3\n",
    "table_path = 's3a://bronze/delta_employee'\n",
    "\n",
    "# Obter a tabela Delta\n",
    "delta_table = DeltaTable.forPath(spark, table_path)\n",
    "\n",
    "# Executar o optimize na tabela Delta\n",
    "delta_table.optimize()\n",
    "\n",
    "print(\"Optimize concluído com sucesso na tabela Delta.\")\n"
   ]
  },
  {
   "cell_type": "code",
   "execution_count": 7,
   "id": "ba866e5d-e552-41ea-a932-a5fabf0c47b6",
   "metadata": {},
   "outputs": [
    {
     "name": "stdout",
     "output_type": "stream",
     "text": [
      "+-------+-------------------+---------+----------------------------------------+--------------------------------------------------------------+\n",
      "|version|timestamp          |operation|operationParameters                     |operationMetrics                                              |\n",
      "+-------+-------------------+---------+----------------------------------------+--------------------------------------------------------------+\n",
      "|14     |2024-07-01 09:49:22|WRITE    |{mode -> Append, partitionBy -> []}     |{numFiles -> 6, numOutputRows -> 5, numOutputBytes -> 9028}   |\n",
      "|13     |2024-07-01 09:00:11|WRITE    |{queryId -> 20240701_090011_00056_9rh2z}|null                                                          |\n",
      "|12     |2024-07-01 08:58:22|MERGE    |{queryId -> 20240701_085822_00036_9rh2z}|null                                                          |\n",
      "|11     |2024-07-01 08:52:28|WRITE    |{queryId -> 20240701_085228_00016_9rh2z}|null                                                          |\n",
      "|10     |2024-07-01 01:35:07|WRITE    |{mode -> Overwrite, partitionBy -> []}  |{numFiles -> 5, numOutputRows -> 5, numOutputBytes -> 8280}   |\n",
      "|9      |2024-07-01 01:35:03|WRITE    |{mode -> Append, partitionBy -> []}     |{numFiles -> 6, numOutputRows -> 5, numOutputBytes -> 9028}   |\n",
      "|8      |2024-06-29 21:54:58|WRITE    |{mode -> Overwrite, partitionBy -> []}  |{numFiles -> 5, numOutputRows -> 5, numOutputBytes -> 8280}   |\n",
      "|7      |2024-06-29 21:53:40|MERGE    |{queryId -> 20240629_215340_00035_bk5ff}|null                                                          |\n",
      "|6      |2024-06-29 21:52:44|WRITE    |{mode -> Overwrite, partitionBy -> []}  |{numFiles -> 10, numOutputRows -> 10, numOutputBytes -> 16560}|\n",
      "|5      |2024-06-29 21:51:50|WRITE    |{mode -> Overwrite, partitionBy -> []}  |{numFiles -> 5, numOutputRows -> 5, numOutputBytes -> 8280}   |\n",
      "|4      |2024-06-29 21:48:53|WRITE    |{mode -> Append, partitionBy -> []}     |{numFiles -> 6, numOutputRows -> 5, numOutputBytes -> 9028}   |\n",
      "|3      |2024-06-29 21:46:46|WRITE    |{mode -> Append, partitionBy -> []}     |{numFiles -> 6, numOutputRows -> 5, numOutputBytes -> 9028}   |\n",
      "|2      |2024-06-29 21:46:17|WRITE    |{mode -> Append, partitionBy -> []}     |{numFiles -> 6, numOutputRows -> 5, numOutputBytes -> 9028}   |\n",
      "|1      |2024-06-29 21:44:46|WRITE    |{mode -> Append, partitionBy -> []}     |{numFiles -> 6, numOutputRows -> 5, numOutputBytes -> 9028}   |\n",
      "|0      |2024-06-29 21:39:02|WRITE    |{mode -> Append, partitionBy -> []}     |{numFiles -> 6, numOutputRows -> 5, numOutputBytes -> 9028}   |\n",
      "+-------+-------------------+---------+----------------------------------------+--------------------------------------------------------------+\n",
      "\n"
     ]
    }
   ],
   "source": [
    "from delta.tables import DeltaTable\n",
    "from pyspark.sql import SparkSession\n",
    "\n",
    "# Cria a sessão do Spark\n",
    "spark = SparkSession.builder \\\n",
    "    .appName(\"ShowDeltaChanges\") \\\n",
    "    .getOrCreate()\n",
    "\n",
    "# Caminho para a tabela Delta no S3\n",
    "table_path = 's3a://bronze/delta_employee'\n",
    "\n",
    "# Obter a tabela Delta\n",
    "delta_table = DeltaTable.forPath(spark, table_path)\n",
    "\n",
    "# Obter o histórico da tabela Delta\n",
    "history_df = delta_table.history()\n",
    "\n",
    "# Filtrar e mostrar operações de inserts, updates e deletes\n",
    "changes_df = history_df.filter(\"operation != 'READ'\").select(\"version\", \"timestamp\", \"operation\", \"operationParameters\", \"operationMetrics\")\n",
    "\n",
    "# Mostrar o resultado\n",
    "changes_df.show(truncate=False)\n"
   ]
  },
  {
   "cell_type": "code",
   "execution_count": 3,
   "id": "c3e21be6-c87c-47cf-8547-a455b7088cc4",
   "metadata": {},
   "outputs": [
    {
     "name": "stdout",
     "output_type": "stream",
     "text": [
      "+-------+-------------------+------+--------+---------+-----------------------------------+----+--------+---------+-----------+--------------+-------------+-----------------------------------------------------------+------------+-----------------------------------+\n",
      "|version|timestamp          |userId|userName|operation|operationParameters                |job |notebook|clusterId|readVersion|isolationLevel|isBlindAppend|operationMetrics                                           |userMetadata|engineInfo                         |\n",
      "+-------+-------------------+------+--------+---------+-----------------------------------+----+--------+---------+-----------+--------------+-------------+-----------------------------------------------------------+------------+-----------------------------------+\n",
      "|14     |2024-07-01 09:49:22|null  |null    |WRITE    |{mode -> Append, partitionBy -> []}|null|null    |null     |13         |Serializable  |true         |{numFiles -> 6, numOutputRows -> 5, numOutputBytes -> 9028}|null        |Apache-Spark/3.3.1 Delta-Lake/2.2.0|\n",
      "|9      |2024-07-01 01:35:03|null  |null    |WRITE    |{mode -> Append, partitionBy -> []}|null|null    |null     |8          |Serializable  |true         |{numFiles -> 6, numOutputRows -> 5, numOutputBytes -> 9028}|null        |Apache-Spark/3.3.1 Delta-Lake/2.2.0|\n",
      "|4      |2024-06-29 21:48:53|null  |null    |WRITE    |{mode -> Append, partitionBy -> []}|null|null    |null     |3          |Serializable  |true         |{numFiles -> 6, numOutputRows -> 5, numOutputBytes -> 9028}|null        |Apache-Spark/3.3.1 Delta-Lake/2.2.0|\n",
      "|3      |2024-06-29 21:46:46|null  |null    |WRITE    |{mode -> Append, partitionBy -> []}|null|null    |null     |2          |Serializable  |true         |{numFiles -> 6, numOutputRows -> 5, numOutputBytes -> 9028}|null        |Apache-Spark/3.3.1 Delta-Lake/2.2.0|\n",
      "|2      |2024-06-29 21:46:17|null  |null    |WRITE    |{mode -> Append, partitionBy -> []}|null|null    |null     |1          |Serializable  |true         |{numFiles -> 6, numOutputRows -> 5, numOutputBytes -> 9028}|null        |Apache-Spark/3.3.1 Delta-Lake/2.2.0|\n",
      "|1      |2024-06-29 21:44:46|null  |null    |WRITE    |{mode -> Append, partitionBy -> []}|null|null    |null     |0          |Serializable  |true         |{numFiles -> 6, numOutputRows -> 5, numOutputBytes -> 9028}|null        |Apache-Spark/3.3.1 Delta-Lake/2.2.0|\n",
      "|0      |2024-06-29 21:39:02|null  |null    |WRITE    |{mode -> Append, partitionBy -> []}|null|null    |null     |null       |Serializable  |true         |{numFiles -> 6, numOutputRows -> 5, numOutputBytes -> 9028}|null        |Apache-Spark/3.3.1 Delta-Lake/2.2.0|\n",
      "+-------+-------------------+------+--------+---------+-----------------------------------+----+--------+---------+-----------+--------------+-------------+-----------------------------------------------------------+------------+-----------------------------------+\n",
      "\n",
      "+-------+-------------------+------+--------+---------+----------------------------------------+----+--------+---------------+-----------+-----------------+-------------+----------------+------------+----------+\n",
      "|version|timestamp          |userId|userName|operation|operationParameters                     |job |notebook|clusterId      |readVersion|isolationLevel   |isBlindAppend|operationMetrics|userMetadata|engineInfo|\n",
      "+-------+-------------------+------+--------+---------+----------------------------------------+----+--------+---------------+-----------+-----------------+-------------+----------------+------------+----------+\n",
      "|12     |2024-07-01 08:58:22|trino |trino   |MERGE    |{queryId -> 20240701_085822_00036_9rh2z}|null|null    |trino-405-trino|11         |WriteSerializable|null         |null            |null        |null      |\n",
      "|7      |2024-06-29 21:53:40|trino |trino   |MERGE    |{queryId -> 20240629_215340_00035_bk5ff}|null|null    |trino-405-trino|6          |WriteSerializable|null         |null            |null        |null      |\n",
      "+-------+-------------------+------+--------+---------+----------------------------------------+----+--------+---------------+-----------+-----------------+-------------+----------------+------------+----------+\n",
      "\n"
     ]
    }
   ],
   "source": [
    "from delta.tables import DeltaTable\n",
    "from pyspark.sql import SparkSession\n",
    "\n",
    "# Cria a sessão do Spark\n",
    "spark = SparkSession.builder \\\n",
    "    .appName(\"ShowDeltaChanges\") \\\n",
    "    .getOrCreate()\n",
    "\n",
    "# Caminho para a tabela Delta no S3\n",
    "table_path = 's3a://bronze/delta_employee'\n",
    "\n",
    "# Obter a tabela Delta\n",
    "delta_table = DeltaTable.forPath(spark, table_path)\n",
    "\n",
    "# Obter o histórico da tabela Delta\n",
    "history_df = delta_table.history()\n",
    "\n",
    "# Filtrar e mostrar operações de INSERT\n",
    "inserts_df = history_df.filter(\"operation = 'WRITE' and operationParameters.mode = 'Append'\")\n",
    "inserts_df.show(truncate=False)\n",
    "\n",
    "# Filtrar e mostrar operações de UPDATE (Merge)\n",
    "updates_df = history_df.filter(\"operation = 'MERGE'\")\n",
    "updates_df.show(truncate=False)\n",
    "\n",
    "# Para mostrar os deletes, não há um registro explícito em Delta Lake, pois ele mantém um log de transações.\n"
   ]
  },
  {
   "cell_type": "markdown",
   "id": "2fc95dfa-4fb2-434d-8af3-f66740bf5c78",
   "metadata": {},
   "source": [
    "# cdf"
   ]
  },
  {
   "cell_type": "code",
   "execution_count": 2,
   "id": "6bb4370d-2ff8-4bf7-a1a1-afbe7c9ac7b8",
   "metadata": {},
   "outputs": [
    {
     "ename": "AnalysisException",
     "evalue": "Failed to merge fields 'id' and 'id'. Failed to merge incompatible data types StringType and LongType",
     "output_type": "error",
     "traceback": [
      "\u001b[0;31m---------------------------------------------------------------------------\u001b[0m",
      "\u001b[0;31mAnalysisException\u001b[0m                         Traceback (most recent call last)",
      "Cell \u001b[0;32mIn[2], line 22\u001b[0m\n\u001b[1;32m     19\u001b[0m columns \u001b[38;5;241m=\u001b[39m [\u001b[38;5;124m\"\u001b[39m\u001b[38;5;124mid\u001b[39m\u001b[38;5;124m\"\u001b[39m, \u001b[38;5;124m\"\u001b[39m\u001b[38;5;124mname\u001b[39m\u001b[38;5;124m\"\u001b[39m, \u001b[38;5;124m\"\u001b[39m\u001b[38;5;124mdepartment\u001b[39m\u001b[38;5;124m\"\u001b[39m]\n\u001b[1;32m     21\u001b[0m new_df \u001b[38;5;241m=\u001b[39m spark\u001b[38;5;241m.\u001b[39mcreateDataFrame(new_data, columns)\n\u001b[0;32m---> 22\u001b[0m \u001b[43mnew_df\u001b[49m\u001b[38;5;241;43m.\u001b[39;49m\u001b[43mwrite\u001b[49m\u001b[38;5;241;43m.\u001b[39;49m\u001b[43mformat\u001b[49m\u001b[43m(\u001b[49m\u001b[38;5;124;43m\"\u001b[39;49m\u001b[38;5;124;43mdelta\u001b[39;49m\u001b[38;5;124;43m\"\u001b[39;49m\u001b[43m)\u001b[49m\u001b[38;5;241;43m.\u001b[39;49m\u001b[43mmode\u001b[49m\u001b[43m(\u001b[49m\u001b[38;5;124;43m\"\u001b[39;49m\u001b[38;5;124;43mappend\u001b[39;49m\u001b[38;5;124;43m\"\u001b[39;49m\u001b[43m)\u001b[49m\u001b[38;5;241;43m.\u001b[39;49m\u001b[43msave\u001b[49m\u001b[43m(\u001b[49m\u001b[43mtable_path\u001b[49m\u001b[43m)\u001b[49m\n\u001b[1;32m     24\u001b[0m \u001b[38;5;66;03m# Atualizando alguns dados\u001b[39;00m\n\u001b[1;32m     25\u001b[0m delta_table \u001b[38;5;241m=\u001b[39m DeltaTable\u001b[38;5;241m.\u001b[39mforPath(spark, table_path)\n",
      "File \u001b[0;32m/usr/local/spark/python/pyspark/sql/readwriter.py:968\u001b[0m, in \u001b[0;36mDataFrameWriter.save\u001b[0;34m(self, path, format, mode, partitionBy, **options)\u001b[0m\n\u001b[1;32m    966\u001b[0m     \u001b[38;5;28mself\u001b[39m\u001b[38;5;241m.\u001b[39m_jwrite\u001b[38;5;241m.\u001b[39msave()\n\u001b[1;32m    967\u001b[0m \u001b[38;5;28;01melse\u001b[39;00m:\n\u001b[0;32m--> 968\u001b[0m     \u001b[38;5;28;43mself\u001b[39;49m\u001b[38;5;241;43m.\u001b[39;49m\u001b[43m_jwrite\u001b[49m\u001b[38;5;241;43m.\u001b[39;49m\u001b[43msave\u001b[49m\u001b[43m(\u001b[49m\u001b[43mpath\u001b[49m\u001b[43m)\u001b[49m\n",
      "File \u001b[0;32m/usr/local/spark/python/lib/py4j-0.10.9.5-src.zip/py4j/java_gateway.py:1321\u001b[0m, in \u001b[0;36mJavaMember.__call__\u001b[0;34m(self, *args)\u001b[0m\n\u001b[1;32m   1315\u001b[0m command \u001b[38;5;241m=\u001b[39m proto\u001b[38;5;241m.\u001b[39mCALL_COMMAND_NAME \u001b[38;5;241m+\u001b[39m\\\n\u001b[1;32m   1316\u001b[0m     \u001b[38;5;28mself\u001b[39m\u001b[38;5;241m.\u001b[39mcommand_header \u001b[38;5;241m+\u001b[39m\\\n\u001b[1;32m   1317\u001b[0m     args_command \u001b[38;5;241m+\u001b[39m\\\n\u001b[1;32m   1318\u001b[0m     proto\u001b[38;5;241m.\u001b[39mEND_COMMAND_PART\n\u001b[1;32m   1320\u001b[0m answer \u001b[38;5;241m=\u001b[39m \u001b[38;5;28mself\u001b[39m\u001b[38;5;241m.\u001b[39mgateway_client\u001b[38;5;241m.\u001b[39msend_command(command)\n\u001b[0;32m-> 1321\u001b[0m return_value \u001b[38;5;241m=\u001b[39m \u001b[43mget_return_value\u001b[49m\u001b[43m(\u001b[49m\n\u001b[1;32m   1322\u001b[0m \u001b[43m    \u001b[49m\u001b[43manswer\u001b[49m\u001b[43m,\u001b[49m\u001b[43m \u001b[49m\u001b[38;5;28;43mself\u001b[39;49m\u001b[38;5;241;43m.\u001b[39;49m\u001b[43mgateway_client\u001b[49m\u001b[43m,\u001b[49m\u001b[43m \u001b[49m\u001b[38;5;28;43mself\u001b[39;49m\u001b[38;5;241;43m.\u001b[39;49m\u001b[43mtarget_id\u001b[49m\u001b[43m,\u001b[49m\u001b[43m \u001b[49m\u001b[38;5;28;43mself\u001b[39;49m\u001b[38;5;241;43m.\u001b[39;49m\u001b[43mname\u001b[49m\u001b[43m)\u001b[49m\n\u001b[1;32m   1324\u001b[0m \u001b[38;5;28;01mfor\u001b[39;00m temp_arg \u001b[38;5;129;01min\u001b[39;00m temp_args:\n\u001b[1;32m   1325\u001b[0m     temp_arg\u001b[38;5;241m.\u001b[39m_detach()\n",
      "File \u001b[0;32m/usr/local/spark/python/pyspark/sql/utils.py:196\u001b[0m, in \u001b[0;36mcapture_sql_exception.<locals>.deco\u001b[0;34m(*a, **kw)\u001b[0m\n\u001b[1;32m    192\u001b[0m converted \u001b[38;5;241m=\u001b[39m convert_exception(e\u001b[38;5;241m.\u001b[39mjava_exception)\n\u001b[1;32m    193\u001b[0m \u001b[38;5;28;01mif\u001b[39;00m \u001b[38;5;129;01mnot\u001b[39;00m \u001b[38;5;28misinstance\u001b[39m(converted, UnknownException):\n\u001b[1;32m    194\u001b[0m     \u001b[38;5;66;03m# Hide where the exception came from that shows a non-Pythonic\u001b[39;00m\n\u001b[1;32m    195\u001b[0m     \u001b[38;5;66;03m# JVM exception message.\u001b[39;00m\n\u001b[0;32m--> 196\u001b[0m     \u001b[38;5;28;01mraise\u001b[39;00m converted \u001b[38;5;28;01mfrom\u001b[39;00m \u001b[38;5;28mNone\u001b[39m\n\u001b[1;32m    197\u001b[0m \u001b[38;5;28;01melse\u001b[39;00m:\n\u001b[1;32m    198\u001b[0m     \u001b[38;5;28;01mraise\u001b[39;00m\n",
      "\u001b[0;31mAnalysisException\u001b[0m: Failed to merge fields 'id' and 'id'. Failed to merge incompatible data types StringType and LongType"
     ]
    }
   ],
   "source": [
    "from delta.tables import DeltaTable\n",
    "from pyspark.sql import SparkSession\n",
    "from pyspark.sql.functions import col\n",
    "\n",
    "# Cria a sessão do Spark\n",
    "spark = SparkSession.builder \\\n",
    "    .appName(\"ShowDeltaChanges\") \\\n",
    "    .getOrCreate()\n",
    "\n",
    "# Caminho para a tabela Delta no S3\n",
    "table_path = 's3a://bronze/delta_employee'\n",
    "\n",
    "# Habilitar Change Data Feed na tabela (necessário fazer isso uma vez)\n",
    "spark.sql(f\"ALTER TABLE delta.`{table_path}` SET TBLPROPERTIES (delta.enableChangeDataFeed = true)\")\n",
    "\n",
    "# Fazer algumas alterações na tabela (inserções, atualizações e exclusões)\n",
    "# Supondo que você tenha um DataFrame com novos dados para inserir\n",
    "new_data = [(6, 'John Doe', 'Sales'), (7, 'Jane Smith', 'Marketing')]\n",
    "columns = [\"id\", \"name\", \"department\"]\n",
    "\n",
    "new_df = spark.createDataFrame(new_data, columns)\n",
    "new_df.write.format(\"delta\").mode(\"append\").save(table_path)\n",
    "\n",
    "# Atualizando alguns dados\n",
    "delta_table = DeltaTable.forPath(spark, table_path)\n",
    "delta_table.update(condition=col(\"id\") == 6, set={\"department\": \"'HR'\"})\n",
    "\n",
    "# Deletando alguns dados\n",
    "delta_table.delete(condition=col(\"id\") == 7)\n",
    "\n",
    "# Verificar a versão atual\n",
    "end_version = delta_table.history().select(\"version\").orderBy(\"version\", ascending=False).first()[0]\n",
    "\n",
    "# Ler as mudanças usando Change Data Feed (CDF)\n",
    "# Especificando o intervalo de version numbers para as alterações desejadas\n",
    "# Aqui, vamos começar a partir da versão em que habilitamos o CDF\n",
    "start_version = end_version - 1  # Se o CDF foi habilitado na última operação\n",
    "\n",
    "# Ler as mudanças entre as versões especificadas\n",
    "changes_df = spark.read.format(\"delta\") \\\n",
    "    .option(\"readChangeData\", \"true\") \\\n",
    "    .option(\"startingVersion\", start_version) \\\n",
    "    .option(\"endingVersion\", end_version) \\\n",
    "    .load(table_path)\n",
    "\n",
    "# Mostrar as linhas que foram inseridas\n",
    "inserts_df = changes_df.filter(\"_change_type = 'insert'\")\n",
    "inserts_df.show(truncate=False)\n",
    "\n",
    "# Mostrar as linhas que foram atualizadas\n",
    "updates_df = changes_df.filter(\"_change_type = 'update_postimage'\")\n",
    "updates_df.show(truncate=False)\n",
    "\n",
    "# Mostrar as linhas que foram deletadas\n",
    "deletes_df = changes_df.filter(\"_change_type = 'delete'\")\n",
    "deletes_df.show(truncate=False)\n",
    "\n"
   ]
  }
 ],
 "metadata": {
  "kernelspec": {
   "display_name": "Python 3 (ipykernel)",
   "language": "python",
   "name": "python3"
  },
  "language_info": {
   "codemirror_mode": {
    "name": "ipython",
    "version": 3
   },
   "file_extension": ".py",
   "mimetype": "text/x-python",
   "name": "python",
   "nbconvert_exporter": "python",
   "pygments_lexer": "ipython3",
   "version": "3.10.8"
  }
 },
 "nbformat": 4,
 "nbformat_minor": 5
}
