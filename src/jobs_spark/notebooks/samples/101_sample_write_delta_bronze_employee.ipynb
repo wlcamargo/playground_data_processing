{
 "cells": [
  {
   "cell_type": "code",
   "execution_count": null,
   "id": "8afbc670-016a-41eb-914f-5f94c1275519",
   "metadata": {},
   "outputs": [],
   "source": [
    "from pyspark import SparkContext, SparkConf\n",
    "from pyspark.sql import SparkSession\n",
    "from pyspark.sql.functions import *\n",
    "from pyspark.sql.types import *\n",
    "\n",
    "\n",
    "# Configuração do Spark\n",
    "conf = SparkConf()\n",
    "conf.setAppName(\"Write Delta Bronze Employee\")\n",
    "conf.set(\"spark.hadoop.fs.s3a.endpoint\", \"http://minio:9000\")\n",
    "conf.set(\"spark.hadoop.fs.s3a.access.key\", \"chapolin\")\n",
    "conf.set(\"spark.hadoop.fs.s3a.secret.key\", \"mudar@123\")\n",
    "conf.set(\"spark.hadoop.fs.s3a.path.style.access\", True)\n",
    "conf.set(\"spark.hadoop.fs.s3a.impl\", \"org.apache.hadoop.fs.s3a.S3AFileSystem\")\n",
    "conf.set('spark.hadoop.fs.s3a.aws.credentials.provider', 'org.apache.hadoop.fs.s3a.SimpleAWSCredentialsProvider')\n",
    "conf.set(\"spark.sql.extensions\", \"io.delta.sql.DeltaSparkSessionExtension\")\n",
    "conf.set(\"spark.sql.catalog.spark_catalog\", \"org.apache.spark.sql.delta.catalog.DeltaCatalog\") \n",
    "conf.set(\"hive.metastore.uris\", \"thrift://metastore:9083\")\n",
    "\n",
    "# Inicialização da sessão do Spark\n",
    "spark = SparkSession.builder.config(conf=conf).enableHiveSupport().getOrCreate()\n",
    "\n",
    "# Dados de exemplo\n",
    "data2 = [(\"James\", \"\", \"Smith\", \"36636\", \"M\", 3000),\n",
    "         (\"Michael\", \"Rose\", \"\", \"40288\", \"M\", 4000),\n",
    "         (\"Robert\", \"\", \"Williams\", \"42114\", \"M\", 4000),\n",
    "         (\"Maria\", \"Anne\", \"Jones\", \"39192\", \"F\", 4000),\n",
    "         (\"Jen\", \"Mary\", \"Brown\", \"\", \"F\", -1)]\n",
    "\n",
    "# Esquema dos dados\n",
    "schema = StructType([\n",
    "    StructField(\"firstname\", StringType(), True),\n",
    "    StructField(\"middlename\", StringType(), True),\n",
    "    StructField(\"lastname\", StringType(), True),\n",
    "    StructField(\"id\", StringType(), True),\n",
    "    StructField(\"gender\", StringType(), True),\n",
    "    StructField(\"salary\", IntegerType(), True)\n",
    "])\n",
    "\n",
    "# Criando DataFrame\n",
    "df = spark.createDataFrame(data=data2, schema=schema)\n",
    "\n",
    "\n",
    "df.write.format(\"delta\").mode(\"append\").save('s3a://bronze/delta_employee')  \n"
   ]
  }
 ],
 "metadata": {
  "kernelspec": {
   "display_name": "Python 3 (ipykernel)",
   "language": "python",
   "name": "python3"
  },
  "language_info": {
   "codemirror_mode": {
    "name": "ipython",
    "version": 3
   },
   "file_extension": ".py",
   "mimetype": "text/x-python",
   "name": "python",
   "nbconvert_exporter": "python",
   "pygments_lexer": "ipython3",
   "version": "3.10.8"
  }
 },
 "nbformat": 4,
 "nbformat_minor": 5
}
