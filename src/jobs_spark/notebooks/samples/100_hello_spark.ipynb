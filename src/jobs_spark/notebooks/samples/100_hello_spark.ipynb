{
 "cells": [
  {
   "cell_type": "markdown",
   "id": "53f122b4-d850-4027-966f-d41ef21ba3f4",
   "metadata": {},
   "source": [
    "# Configs do Spark"
   ]
  },
  {
   "cell_type": "code",
   "execution_count": 1,
   "id": "8a0214f0-ded3-4714-ac07-2aa6f1cdfc3d",
   "metadata": {},
   "outputs": [
    {
     "name": "stdout",
     "output_type": "stream",
     "text": [
      "Collecting pyfiglet\n",
      "  Downloading pyfiglet-1.0.2-py3-none-any.whl (1.1 MB)\n",
      "\u001b[2K     \u001b[90m━━━━━━━━━━━━━━━━━━━━━━━━━━━━━━━━━━━━━━━━\u001b[0m \u001b[32m1.1/1.1 MB\u001b[0m \u001b[31m4.4 MB/s\u001b[0m eta \u001b[36m0:00:00\u001b[0m00:01\u001b[0m00:01\u001b[0m0m\n",
      "\u001b[?25hInstalling collected packages: pyfiglet\n",
      "Successfully installed pyfiglet-1.0.2\n",
      "Note: you may need to restart the kernel to use updated packages.\n"
     ]
    }
   ],
   "source": [
    "pip install pyfiglet"
   ]
  },
  {
   "cell_type": "code",
   "execution_count": 4,
   "id": "95c1431b-4c39-42da-9452-a0ceb5ffbeaf",
   "metadata": {},
   "outputs": [
    {
     "data": {
      "text/html": [
       "\n",
       "            <div>\n",
       "                <p><b>SparkSession - hive</b></p>\n",
       "                \n",
       "        <div>\n",
       "            <p><b>SparkContext</b></p>\n",
       "\n",
       "            <p><a href=\"http://spark-master:4040\">Spark UI</a></p>\n",
       "\n",
       "            <dl>\n",
       "              <dt>Version</dt>\n",
       "                <dd><code>v3.3.1</code></dd>\n",
       "              <dt>Master</dt>\n",
       "                <dd><code>local[*]</code></dd>\n",
       "              <dt>AppName</dt>\n",
       "                <dd><code>Write Delta Bronze Employee</code></dd>\n",
       "            </dl>\n",
       "        </div>\n",
       "        \n",
       "            </div>\n",
       "        "
      ],
      "text/plain": [
       "<pyspark.sql.session.SparkSession at 0x7ff71d07dba0>"
      ]
     },
     "execution_count": 4,
     "metadata": {},
     "output_type": "execute_result"
    }
   ],
   "source": [
    "from pyspark import SparkContext, SparkConf\n",
    "from pyspark.sql import SparkSession\n",
    "from pyspark.sql.functions import *\n",
    "from pyspark.sql.types import *\n",
    "from time import sleep\n",
    "\n",
    "\n",
    "# Configuração do Spark\n",
    "conf = SparkConf()\n",
    "conf.setAppName(\"Hello Sparkanos\")\n",
    "conf.set(\"spark.hadoop.fs.s3a.endpoint\", \"http://minio:9000\")\n",
    "conf.set(\"spark.hadoop.fs.s3a.access.key\", \"chapolin\")\n",
    "conf.set(\"spark.hadoop.fs.s3a.secret.key\", \"mudar@123\")\n",
    "conf.set(\"spark.hadoop.fs.s3a.path.style.access\", True)\n",
    "conf.set(\"spark.hadoop.fs.s3a.impl\", \"org.apache.hadoop.fs.s3a.S3AFileSystem\")\n",
    "conf.set('spark.hadoop.fs.s3a.aws.credentials.provider', 'org.apache.hadoop.fs.s3a.SimpleAWSCredentialsProvider')\n",
    "conf.set(\"spark.sql.extensions\", \"io.delta.sql.DeltaSparkSessionExtension\")\n",
    "conf.set(\"spark.sql.catalog.spark_catalog\", \"org.apache.spark.sql.delta.catalog.DeltaCatalog\") \n",
    "conf.set(\"hive.metastore.uris\", \"thrift://metastore:9083\")\n",
    "\n",
    "# Inicialização da sessão do Spark\n",
    "spark = SparkSession.builder.config(conf=conf).enableHiveSupport().getOrCreate()\n",
    "spark"
   ]
  },
  {
   "cell_type": "code",
   "execution_count": 5,
   "id": "dd5a6899-4876-4f37-8819-7627015e57ce",
   "metadata": {},
   "outputs": [
    {
     "name": "stdout",
     "output_type": "stream",
     "text": [
      " _   _      _ _         ____                   _                         _ \n",
      "| | | | ___| | | ___   / ___| _ __   __ _ _ __| | ____ _ _ __   ___  ___| |\n",
      "| |_| |/ _ \\ | |/ _ \\  \\___ \\| '_ \\ / _` | '__| |/ / _` | '_ \\ / _ \\/ __| |\n",
      "|  _  |  __/ | | (_) |  ___) | |_) | (_| | |  |   < (_| | | | | (_) \\__ \\_|\n",
      "|_| |_|\\___|_|_|\\___/  |____/| .__/ \\__,_|_|  |_|\\_\\__,_|_| |_|\\___/|___(_)\n",
      "                             |_|                                           \n",
      "\n"
     ]
    }
   ],
   "source": [
    "import time\n",
    "from pyfiglet import Figlet\n",
    "\n",
    "f = Figlet(font='standard')\n",
    "print(f.renderText('Hello Sparkanos!'))\n",
    "\n",
    "time.sleep(5)"
   ]
  },
  {
   "cell_type": "code",
   "execution_count": 6,
   "id": "1d66c440-fe53-46f5-93c6-f34adb25b24e",
   "metadata": {},
   "outputs": [
    {
     "name": "stdout",
     "output_type": "stream",
     "text": [
      " ____      _   _   _ _     _     _     _ \n",
      "|  _ \\    / \\ | | | | |   | |   | |   | |\n",
      "| |_) |  / _ \\| | | | |   | |   | |   | |\n",
      "|  _ <  / ___ \\ |_| | |___| |___| |___|_|\n",
      "|_| \\_\\/_/   \\_\\___/|_____|_____|_____(_)\n",
      "                                         \n",
      "\n",
      " ____      _   _   _ _     _     _     _ \n",
      "|  _ \\    / \\ | | | | |   | |   | |   | |\n",
      "| |_) |  / _ \\| | | | |   | |   | |   | |\n",
      "|  _ <  / ___ \\ |_| | |___| |___| |___|_|\n",
      "|_| \\_\\/_/   \\_\\___/|_____|_____|_____(_)\n",
      "                                         \n",
      "\n"
     ]
    }
   ],
   "source": [
    "f = Figlet(font='standard')\n",
    "print(f.renderText('RAULLL!'))\n",
    "time.sleep(3)\n",
    "\n",
    "print(f.renderText('RAULLL!'))\n",
    "time.sleep(3)"
   ]
  }
 ],
 "metadata": {
  "kernelspec": {
   "display_name": "Python 3 (ipykernel)",
   "language": "python",
   "name": "python3"
  },
  "language_info": {
   "codemirror_mode": {
    "name": "ipython",
    "version": 3
   },
   "file_extension": ".py",
   "mimetype": "text/x-python",
   "name": "python",
   "nbconvert_exporter": "python",
   "pygments_lexer": "ipython3",
   "version": "3.10.8"
  }
 },
 "nbformat": 4,
 "nbformat_minor": 5
}
